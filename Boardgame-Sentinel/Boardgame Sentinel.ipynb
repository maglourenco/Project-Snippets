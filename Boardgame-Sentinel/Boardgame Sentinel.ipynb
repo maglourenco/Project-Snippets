{
 "cells": [
  {
   "cell_type": "code",
   "execution_count": 1,
   "metadata": {},
   "outputs": [],
   "source": [
    "import json, http.client, requests, re, smtplib, codecs\n",
    "from bs4 import BeautifulSoup\n",
    "from email.message import EmailMessage\n",
    "from datetime import datetime"
   ]
  },
  {
   "cell_type": "markdown",
   "metadata": {},
   "source": [
    "# 1. Useful methods"
   ]
  },
  {
   "cell_type": "markdown",
   "metadata": {},
   "source": [
    "### 1.1 Retrive the lowest price boardgame from the boardgame's list (considering shipping costs)"
   ]
  },
  {
   "cell_type": "code",
   "execution_count": 14,
   "metadata": {},
   "outputs": [
    {
     "name": "stdout",
     "output_type": "stream",
     "text": [
      "Preço mais baixo 16.94 € com portes 6.9 € para um total de 23.84 €\n"
     ]
    }
   ],
   "source": [
    "def get_lowest_price_boardgame(data, game_name):\n",
    "    lowest_price = 100000;\n",
    "    lowest_price_game = None\n",
    "    \n",
    "    for game in data[\"results\"]:\n",
    "        if game[\"nome_jogo\"] == game_name:\n",
    "            total = game[\"preco\"] + game[\"portes\"]\n",
    "            if total < lowest_price:\n",
    "                lowest_price = total\n",
    "                lowest_price_game = game\n",
    "    return lowest_price_game\n",
    "\n",
    "game = get_lowest_price_boardgame(res, \"Cartographers: A Roll Player Tale\")\n",
    "print('Preço mais baixo {} € com portes {} € para um total de {} €'.format(game[\"preco\"], game[\"portes\"], round(game[\"preco\"] + game[\"portes\"], 2)))"
   ]
  },
  {
   "cell_type": "markdown",
   "metadata": {},
   "source": [
    "### 1.2 Get a list of unique boardgames names"
   ]
  },
  {
   "cell_type": "code",
   "execution_count": null,
   "metadata": {},
   "outputs": [],
   "source": [
    "def get_boardgames_list(data):\n",
    "    return list(set([game[\"nome_jogo\"] for game in data[\"results\"]]))\n",
    "\n",
    "print(get_boardgames_list(res))"
   ]
  },
  {
   "cell_type": "markdown",
   "metadata": {},
   "source": [
    "### 1.3 Get a list of unique boardgames shops"
   ]
  },
  {
   "cell_type": "code",
   "execution_count": null,
   "metadata": {},
   "outputs": [],
   "source": [
    "def get_shops_list(data):\n",
    "    return list(set([game[\"nome_loja\"] for game in data[\"results\"]]))\n",
    "\n",
    "print(get_shops_list(res))"
   ]
  },
  {
   "cell_type": "markdown",
   "metadata": {},
   "source": [
    "# 2. Get the data from the Parse Server"
   ]
  },
  {
   "cell_type": "code",
   "execution_count": 3,
   "metadata": {},
   "outputs": [
    {
     "name": "stdout",
     "output_type": "stream",
     "text": [
      "{\n",
      "    \"results\": [\n",
      "        {\n",
      "            \"createdAt\": \"2020-10-15T19:00:28.531Z\",\n",
      "            \"favorito\": true,\n",
      "            \"nome_jogo\": \"Brass: Birmingham\",\n",
      "            \"objectId\": \"07HpolTjpM\",\n",
      "            \"updatedAt\": \"2020-10-19T13:02:01.182Z\"\n",
      "        },\n",
      "        {\n",
      "            \"createdAt\": \"2020-10-15T19:01:06.961Z\",\n",
      "            \"favorito\": true,\n",
      "            \"nome_jogo\": \"Wingspan\",\n",
      "            \"objectId\": \"UoMUGG4LGD\",\n",
      "            \"updatedAt\": \"2020-10-19T13:03:50.144Z\"\n",
      "        },\n",
      "        {\n",
      "            \"createdAt\": \"2020-10-15T19:01:19.556Z\",\n",
      "            \"favorito\": true,\n",
      "            \"nome_jogo\": \"Cartographers: A Roll Player Tale\",\n",
      "            \"objectId\": \"YEtU6nvsjl\",\n",
      "            \"updatedAt\": \"2020-10-19T11:52:19.776Z\"\n",
      "        },\n",
      "        {\n",
      "            \"ACL\": {\n",
      "                \"*\": {\n",
      "                    \"read\": true,\n",
      "                    \"write\": true\n",
      "                },\n",
      "                \"6dfcon2KF6\": {\n",
      "                    \"read\": true,\n",
      "                    \"write\": true\n",
      "                }\n",
      "            },\n",
      "            \"createdAt\": \"2020-11-21T22:16:47.067Z\",\n",
      "            \"favorito\": false,\n",
      "            \"nome_jogo\": \"Museum\",\n",
      "            \"objectId\": \"GfiXrB5GiD\",\n",
      "            \"updatedAt\": \"2020-11-21T22:16:47.067Z\"\n",
      "        },\n",
      "        {\n",
      "            \"ACL\": {\n",
      "                \"*\": {\n",
      "                    \"read\": true,\n",
      "                    \"write\": true\n",
      "                },\n",
      "                \"6dfcon2KF6\": {\n",
      "                    \"read\": true,\n",
      "                    \"write\": true\n",
      "                }\n",
      "            },\n",
      "            \"createdAt\": \"2020-11-21T22:16:55.964Z\",\n",
      "            \"favorito\": false,\n",
      "            \"nome_jogo\": \"Puerto Rico\",\n",
      "            \"objectId\": \"Hvluytvcxt\",\n",
      "            \"updatedAt\": \"2020-11-21T22:16:55.964Z\"\n",
      "        },\n",
      "        {\n",
      "            \"ACL\": {\n",
      "                \"*\": {\n",
      "                    \"read\": true,\n",
      "                    \"write\": true\n",
      "                },\n",
      "                \"6dfcon2KF6\": {\n",
      "                    \"read\": true,\n",
      "                    \"write\": true\n",
      "                }\n",
      "            },\n",
      "            \"createdAt\": \"2020-11-21T22:17:01.236Z\",\n",
      "            \"favorito\": true,\n",
      "            \"nome_jogo\": \"Yamatai\",\n",
      "            \"objectId\": \"dX5pJbvnlx\",\n",
      "            \"updatedAt\": \"2020-11-22T13:31:21.265Z\"\n",
      "        },\n",
      "        {\n",
      "            \"createdAt\": \"2020-11-21T22:20:29.280Z\",\n",
      "            \"favorito\": true,\n",
      "            \"nome_jogo\": \"Clank!\",\n",
      "            \"objectId\": \"pIhG2nyl34\",\n",
      "            \"updatedAt\": \"2020-11-21T22:20:31.851Z\"\n",
      "        },\n",
      "        {\n",
      "            \"createdAt\": \"2020-11-21T22:20:41.879Z\",\n",
      "            \"favorito\": true,\n",
      "            \"nome_jogo\": \"Gran Hotel Austria (ingl\\u00eas)\",\n",
      "            \"objectId\": \"QLQ8P5TpMc\",\n",
      "            \"updatedAt\": \"2020-11-21T22:23:01.002Z\"\n",
      "        },\n",
      "        {\n",
      "            \"createdAt\": \"2020-11-21T22:20:53.357Z\",\n",
      "            \"favorito\": false,\n",
      "            \"nome_jogo\": \"Gran Hotel Austria\",\n",
      "            \"objectId\": \"DyXb4KDSEa\",\n",
      "            \"updatedAt\": \"2020-11-21T22:20:55.113Z\"\n",
      "        },\n",
      "        {\n",
      "            \"createdAt\": \"2020-11-21T22:21:05.421Z\",\n",
      "            \"favorito\": true,\n",
      "            \"nome_jogo\": \"Paladins of the West Kingdom\",\n",
      "            \"objectId\": \"pR2u3jge0F\",\n",
      "            \"updatedAt\": \"2020-11-21T22:21:07.837Z\"\n",
      "        },\n",
      "        {\n",
      "            \"createdAt\": \"2020-11-21T22:21:15.149Z\",\n",
      "            \"favorito\": true,\n",
      "            \"nome_jogo\": \"Terra Mystica\",\n",
      "            \"objectId\": \"271SecYsai\",\n",
      "            \"updatedAt\": \"2020-11-21T22:21:17.784Z\"\n",
      "        }\n",
      "    ]\n",
      "}\n"
     ]
    }
   ],
   "source": [
    "def get_database_data():\n",
    "    conn = http.client.HTTPConnection('35.180.190.81', 80)\n",
    "    conn.connect()\n",
    "    conn.request('GET', '/parse/classes/Boardgames', '', {\n",
    "           \"X-Parse-Application-Id\": \"140692fb9cdff007be0b09aac072a02c84d92dbe\"\n",
    "         })\n",
    "    return json.loads(conn.getresponse().read())\n",
    "\n",
    "res = get_database_data()\n",
    "print(json.dumps(res, indent=4, sort_keys=True))"
   ]
  },
  {
   "cell_type": "markdown",
   "metadata": {},
   "source": [
    "# 3. Request a shop for a boardgame's price "
   ]
  },
  {
   "cell_type": "code",
   "execution_count": 2,
   "metadata": {},
   "outputs": [],
   "source": [
    "def request_boardgame_price(link, shop_name):\n",
    "    # In case is the shop named 'Juegos de la mesa redonda'\n",
    "    if shop_name == 'Juegos de la mesa redonda':\n",
    "        try :\n",
    "            response = requests.get(link, timeout=5)\n",
    "            if response.status_code == 200 :\n",
    "                soup = BeautifulSoup(response.content, 'html.parser')\n",
    "                raw_value = soup.find(id=\"our_price_display\").text\n",
    "                r = re.compile(r\"^\\d*[.,]?\\d*\")\n",
    "                return float(r.match(raw_value).group(0).replace(',',\".\"))\n",
    "            else :\n",
    "                return None\n",
    "        except:\n",
    "            print(\"Not able to read\")\n",
    "            return None\n",
    "    # In case is either the shop 'Jugamos una', 'Jugamos otra' or 'Dracotienda' (apparently the same owners)\n",
    "    elif shop_name == 'Jugamos una' or shop_name == 'Jugamos otra' or shop_name == 'Dracotienda':\n",
    "        try :\n",
    "            response = requests.get(link, timeout=5)\n",
    "            if response.status_code == 200 :\n",
    "                soup = BeautifulSoup(response.content, 'html.parser')\n",
    "                occurrences = soup.findAll(\"div\", {\"class\": \"current-price\"})\n",
    "                if len(occurrences) > 0:\n",
    "                    for span in occurrences[0].find_all('span'):            \n",
    "                        if 'content' in span.attrs:\n",
    "                            return float(span.attrs['content'])\n",
    "            else :\n",
    "                return None\n",
    "        except:\n",
    "            print(\"Not able to read\")\n",
    "            return None   \n",
    "    # In case is the shop named 'Jogo na mesa'\n",
    "    elif shop_name == 'Jogo na mesa':\n",
    "        try :\n",
    "            response = requests.get(link, timeout=5)\n",
    "            if response.status_code == 200 :\n",
    "                soup = BeautifulSoup(response.content, 'html.parser')\n",
    "                occurrences = soup.findAll(\"a\", {\"class\": \"segmento segmento_reserva\"})\n",
    "                if len(occurrences) > 0:\n",
    "                    return float(occurrences[0].text[1:])\n",
    "            else :\n",
    "                return None\n",
    "        except:\n",
    "            print(\"Not able to read\")\n",
    "            return None\n",
    "    else:\n",
    "        return \"Nome de loja não registado\""
   ]
  },
  {
   "cell_type": "code",
   "execution_count": null,
   "metadata": {},
   "outputs": [],
   "source": [
    "# Juegos de la mesa redonda\n",
    "print(request_boardgame_price(\"https://juegosdelamesaredonda.com/7037-brass-birmingham-9781988884042.html\", \"Juegos de la mesa redonda\"))\n",
    "\n",
    "# Jugamos otra\n",
    "print(request_boardgame_price(\"https://jugamosotra.com/juegos/4332-brass-birmingham.html\", \"Jugamos otra\"))\n",
    "\n",
    "# Jugamos una\n",
    "print(request_boardgame_price(\"https://jugamosuna.es/tienda/4786/comprar-brass-birmingham-barato.html\", \"Jugamos una\"))\n",
    "\n",
    "# Jogo na mesa\n",
    "print(request_boardgame_price(\"https://jogonamesa.pt/P/ficha.cgi?bgg_id=224517\", \"Jogo na mesa\"))"
   ]
  },
  {
   "cell_type": "markdown",
   "metadata": {},
   "source": [
    "# 4. Method to update data on the Parse Server"
   ]
  },
  {
   "cell_type": "code",
   "execution_count": 30,
   "metadata": {},
   "outputs": [],
   "source": [
    "def update_database_data(new_data):\n",
    "    conn = http.client.HTTPConnection('35.180.190.81', 80)\n",
    "    for game in new_data:\n",
    "        conn.connect()\n",
    "        conn.request('PUT', '/parse/classes/Boardgames/' + game['objectId'], json.dumps({'preco' : game['preco_novo']}), {\n",
    "            \"X-Parse-Application-Id\": \"140692fb9cdff007be0b09aac072a02c84d92dbe\",\n",
    "            \"Content-Type\": \"application/json\"\n",
    "        })\n",
    "        results = json.loads(conn.getresponse().read())\n",
    "    print(\"Dados atualizados com sucesso!\")"
   ]
  },
  {
   "cell_type": "markdown",
   "metadata": {},
   "source": [
    "# 5. This snippet checks the current prices stored on the Parse Server database and compares them with the new prices retrieved from the website. If they are different, it updates the Parse Server database and notifies the user in case of a game price drop"
   ]
  },
  {
   "cell_type": "code",
   "execution_count": 31,
   "metadata": {},
   "outputs": [
    {
     "name": "stdout",
     "output_type": "stream",
     "text": [
      "https://juegosdelamesaredonda.com/8776-cartografos-un-relato-de-roll-player-8436564811417.html\n",
      "Juegos de la mesa redonda\n",
      "h6GaHase6i\n",
      "16.96\n",
      "16.96\n",
      "Price remains the same\n",
      "https://jugamosuna.es/tienda/6024/comprar-cartographers-a-roll-player-tale-barato.html\n",
      "Jugamos una\n",
      "jrcxCOSEYA\n",
      "25.16\n",
      "25.16\n",
      "Price remains the same\n",
      "https://jugamosotra.com/juegos/4378-cartografos-un-relato-de-roll-player.html\n",
      "Jugamos otra\n",
      "sHlhcK4VCz\n",
      "16.94\n",
      "16.94\n",
      "Price remains the same\n",
      "https://jogonamesa.pt/P/ficha.cgi?bgg_id=263918\n",
      "Jogo na mesa\n",
      "UAy35uURmM\n",
      "19.73\n",
      "19.73\n",
      "Price remains the same\n",
      "https://jogonamesa.pt/P/ficha.cgi?bgg_id=266192\n",
      "Jogo na mesa\n",
      "JLevW1B8BB\n",
      "42.95\n",
      "42.95\n",
      "Price remains the same\n",
      "https://jugamosotra.com/1-5-jugadores/3905-wingspan.html\n",
      "Jugamos otra\n",
      "sRe5vLNR15\n",
      "49.49\n",
      "49.49\n",
      "Price remains the same\n",
      "https://jugamosuna.es/tienda/4479/comprar-wingspan-barato.html\n",
      "Jugamos una\n",
      "Hbv04SZWBH\n",
      "46.71\n",
      "46.71\n",
      "Price remains the same\n",
      "https://juegosdelamesaredonda.com/7275-wingspan-8436578810277.html\n",
      "Juegos de la mesa redonda\n",
      "ZEHZO8uQ8C\n",
      "46.71\n",
      "46.71\n",
      "Price remains the same\n",
      "https://jugamosotra.com/juegos/4332-brass-birmingham.html\n",
      "Jugamos otra\n",
      "CIkuVt34r2\n",
      "53.94\n",
      "53.94\n",
      "Price remains the same\n",
      "https://jugamosuna.es/tienda/4786/comprar-brass-birmingham-barato.html\n",
      "Jugamos una\n",
      "96YYGMaaxE\n",
      "51\n",
      "51.0\n",
      "Price remains the same\n",
      "https://jogonamesa.pt/P/ficha.cgi?bgg_id=224517\n",
      "Jogo na mesa\n",
      "LUfL5ThpVL\n",
      "100\n",
      "65.99\n",
      "Email ENVIADO!\n",
      "price is LOWER\n",
      "https://juegosdelamesaredonda.com/7037-brass-birmingham-9781988884042.html\n",
      "Juegos de la mesa redonda\n",
      "yyRlcaQgVF\n",
      "53.01\n",
      "53.01\n",
      "Price remains the same\n",
      "Game prices to be updated\n",
      "[{'objectId': 'LUfL5ThpVL', 'nome_jogo': 'Brass: Birmingham', 'nome_loja': 'Jogo na mesa', 'preco_antigo': 100, 'preco_novo': 65.99}]\n",
      "Dados atualizados com sucesso!\n"
     ]
    }
   ],
   "source": [
    "updated_prices = []\n",
    "\n",
    "for game in res[\"results\"]:\n",
    "    # Get the current boardgame data\n",
    "    game_url = game[\"url_jogo\"]\n",
    "    shop_name = game[\"nome_loja\"]\n",
    "    current_price = game[\"preco\"]\n",
    "    game_id = game[\"objectId\"]\n",
    "    game_name = game[\"nome_jogo\"]\n",
    "    \n",
    "    print(game_url)\n",
    "    print(shop_name)\n",
    "    print(game_id)\n",
    "    print(current_price)\n",
    "    \n",
    "    # Retrieve the updated price from the boardgame website\n",
    "    new_price = request_boardgame_price(game_url, shop_name)\n",
    "    print(new_price)\n",
    "    \n",
    "    if new_price == None:\n",
    "        continue\n",
    "    \n",
    "    if new_price < current_price:\n",
    "        game[\"preco\"] = new_price\n",
    "        send_email_alert(game, 'mcmiguel_95@hotmail.com')\n",
    "        print(\"price is LOWER\")\n",
    "        updated_prices.append({\n",
    "            \"objectId\": game_id,\n",
    "            \"nome_jogo\": game_name,\n",
    "            \"nome_loja\": shop_name,\n",
    "            \"preco_antigo\": current_price,\n",
    "            \"preco_novo\" : new_price,\n",
    "            \"price_var\": 'LOWER'\n",
    "        })\n",
    "    elif new_price > current_price:\n",
    "        print(\"price is HIGHER\")\n",
    "        updated_prices.append({\n",
    "            \"objectId\": game_id,\n",
    "            \"nome_jogo\": game_name,\n",
    "            \"nome_loja\": shop_name,\n",
    "            \"preco_antigo\": current_price,\n",
    "            \"preco_novo\" : new_price,\n",
    "            \"price_var\": 'HIGHER'\n",
    "        })\n",
    "    else:\n",
    "        print(\"Price remains the same\")\n",
    "    \n",
    "# List of game prices to be updated on the database\n",
    "print(\"Game prices to be updated\")\n",
    "print(updated_prices)\n",
    "\n",
    "# Update data on the Parse Server\n",
    "update_database_data(updated_prices)\n",
    "\n",
    "# Log the updated prices\n",
    "log_price_update(updated_prices)"
   ]
  },
  {
   "cell_type": "markdown",
   "metadata": {},
   "source": [
    "# 6. Send an email alert warning of a game price drop"
   ]
  },
  {
   "cell_type": "code",
   "execution_count": 26,
   "metadata": {},
   "outputs": [],
   "source": [
    "def send_email_alert(game, email_address):\n",
    "    server = smtplib.SMTP('smtp.gmail.com', 587)\n",
    "    server.ehlo()\n",
    "    server.starttls()\n",
    "    server.ehlo()\n",
    "    server.login(\"mag.lourenco@campus.fct.unl.pt\", \"blhkzyepvamopdel\")\n",
    "\n",
    "    # Define the email content\n",
    "    msg = EmailMessage()\n",
    "    msg['Subject'] = \"Baixa de preço no jogo \" + game[\"nome_jogo\"]\n",
    "    msg['From'] = 'mag.lourenco@campus.fct.unl.pt'\n",
    "    msg['To'] = email_address\n",
    "    msg.set_content(\"Olha só cara, o preço do jogo \" + game[\"nome_jogo\"] + \" baixou hein! \" + \"\\n\\n\" + \"Preco atual: \" + str(game[\"preco\"]) + \" € + \" + str(game[\"portes\"]) + \" € de portes\" + \"\\n\" + \"Loja: \" + game[\"nome_loja\"] + \"\\n\" + \"URL: \" + game[\"url_jogo\"])\n",
    "    \n",
    "    # Send the email\n",
    "    server.send_message(msg)\n",
    "    server.close()\n",
    "    \n",
    "    print('Email ENVIADO!')"
   ]
  },
  {
   "cell_type": "code",
   "execution_count": 64,
   "metadata": {},
   "outputs": [
    {
     "name": "stdout",
     "output_type": "stream",
     "text": [
      "Email ENVIADO!\n"
     ]
    }
   ],
   "source": [
    "send_email_alert({\n",
    "            \"createdAt\": \"2020-09-08T14:20:23.482Z\",\n",
    "            \"imagem\": \"https://jogonamesa.pt/upload//z_image/08/18/30/00/460_460.jpg\",\n",
    "            \"nome_jogo\": \"Brass: Birmingham\",\n",
    "            \"nome_loja\": \"Jogo na mesa\",\n",
    "            \"objectId\": \"LUfL5ThpVL\",\n",
    "            \"portes\": 6,\n",
    "            \"preco\": 64.94,\n",
    "            \"updatedAt\": \"2020-09-08T14:22:17.037Z\",\n",
    "            \"url_jogo\": \"https://jogonamesa.pt/P/ficha.cgi?bgg_id=224517\",\n",
    "            \"url_loja\": \"https://jogonamesa.pt/P/home.cgi\"\n",
    "        }, 'mcmiguel_95@hotmail.com')"
   ]
  },
  {
   "cell_type": "code",
   "execution_count": 34,
   "metadata": {},
   "outputs": [],
   "source": [
    "def log_price_update(data):\n",
    "    with open(\"sentinel-log.txt\", \"a+\") as f:\n",
    "        f.write(str(datetime.now()))\n",
    "        f.write(\"\\n\")\n",
    "        json.dump(data, f)\n",
    "        f.write(\"\\n\\n\")\n",
    "        f.close()"
   ]
  },
  {
   "cell_type": "code",
   "execution_count": 40,
   "metadata": {},
   "outputs": [
    {
     "data": {
      "text/plain": [
       "[{'objectId': 'LUfL5ThpVL',\n",
       "  'nome_jogo': 'Brass: Birmingham',\n",
       "  'nome_loja': 'Jogo na mesa',\n",
       "  'preco_antigo': 100,\n",
       "  'preco_novo': 65.99}]"
      ]
     },
     "execution_count": 40,
     "metadata": {},
     "output_type": "execute_result"
    }
   ],
   "source": [
    "updated_prices"
   ]
  },
  {
   "cell_type": "code",
   "execution_count": 38,
   "metadata": {},
   "outputs": [],
   "source": [
    "log_price_update(updated_prices)"
   ]
  },
  {
   "cell_type": "code",
   "execution_count": 39,
   "metadata": {},
   "outputs": [],
   "source": [
    "def save_parse_data(data):\n",
    "    with open(\"parse-data.txt\", \"a+\") as f:\n",
    "        json.dump(data, f)\n",
    "        f.close()"
   ]
  },
  {
   "cell_type": "code",
   "execution_count": 41,
   "metadata": {},
   "outputs": [
    {
     "data": {
      "text/plain": [
       "{'results': [{'objectId': 'h6GaHase6i',\n",
       "   'createdAt': '2020-09-07T21:33:53.399Z',\n",
       "   'updatedAt': '2020-09-08T14:00:14.076Z',\n",
       "   'nome_jogo': 'Cartographers: A Roll Player Tale',\n",
       "   'url_jogo': 'https://juegosdelamesaredonda.com/8776-cartografos-un-relato-de-roll-player-8436564811417.html',\n",
       "   'url_loja': 'https://juegosdelamesaredonda.com',\n",
       "   'nome_loja': 'Juegos de la mesa redonda',\n",
       "   'preco': 16.96,\n",
       "   'imagem': 'https://juegosdelamesaredonda.com/8776-40626-large_default/cartografos-un-relato-de-roll-player.jpg',\n",
       "   'portes': 6.95},\n",
       "  {'objectId': 'jrcxCOSEYA',\n",
       "   'url_jogo': 'https://jugamosuna.es/tienda/6024/comprar-cartographers-a-roll-player-tale-barato.html',\n",
       "   'createdAt': '2020-09-08T13:58:12.893Z',\n",
       "   'updatedAt': '2020-09-08T13:59:42.675Z',\n",
       "   'imagem': 'https://jugamosuna.es/tienda/15653-large_default/comprar-cartographers-a-roll-player-tale-barato.jpg',\n",
       "   'url_loja': 'https://jugamosuna.es/tienda/',\n",
       "   'preco': 25.16,\n",
       "   'portes': 3.95,\n",
       "   'nome_loja': 'Jugamos una',\n",
       "   'nome_jogo': 'Cartographers: A Roll Player Tale'},\n",
       "  {'objectId': 'sHlhcK4VCz',\n",
       "   'preco': 16.94,\n",
       "   'createdAt': '2020-09-08T14:01:00.469Z',\n",
       "   'updatedAt': '2020-09-08T14:02:47.804Z',\n",
       "   'url_jogo': 'https://jugamosotra.com/juegos/4378-cartografos-un-relato-de-roll-player.html',\n",
       "   'url_loja': 'https://jugamosotra.com/',\n",
       "   'nome_loja': 'Jugamos otra',\n",
       "   'portes': 6.9,\n",
       "   'nome_jogo': 'Cartographers: A Roll Player Tale',\n",
       "   'imagem': 'https://jugamosotra.com/15089-home_default/cartografos-un-relato-de-roll-player.jpg'},\n",
       "  {'objectId': 'UAy35uURmM',\n",
       "   'url_jogo': 'https://jogonamesa.pt/P/ficha.cgi?bgg_id=263918',\n",
       "   'createdAt': '2020-09-08T14:05:46.223Z',\n",
       "   'updatedAt': '2020-09-08T14:07:13.384Z',\n",
       "   'preco': 19.73,\n",
       "   'nome_loja': 'Jogo na mesa',\n",
       "   'nome_jogo': 'Cartographers: A Roll Player Tale',\n",
       "   'imagem': 'https://jogonamesa.pt/upload//z_image/44/64/40/00/0_460.jpg',\n",
       "   'portes': 6,\n",
       "   'url_loja': 'https://jogonamesa.pt/P/home.cgi'},\n",
       "  {'objectId': 'JLevW1B8BB',\n",
       "   'url_jogo': 'https://jogonamesa.pt/P/ficha.cgi?bgg_id=266192',\n",
       "   'createdAt': '2020-09-08T14:08:16.754Z',\n",
       "   'updatedAt': '2020-09-08T14:11:06.574Z',\n",
       "   'url_loja': 'https://jogonamesa.pt/P/home.cgi',\n",
       "   'preco': 42.95,\n",
       "   'nome_loja': 'Jogo na mesa',\n",
       "   'portes': 6,\n",
       "   'imagem': 'https://jogonamesa.pt/upload//z_image/63/74/40/00/460_460.jpg',\n",
       "   'nome_jogo': 'Wingspan'},\n",
       "  {'objectId': 'sRe5vLNR15',\n",
       "   'nome_jogo': 'Wingspan',\n",
       "   'createdAt': '2020-09-08T14:12:51.686Z',\n",
       "   'updatedAt': '2020-09-09T10:38:04.121Z',\n",
       "   'nome_loja': 'Jugamos otra',\n",
       "   'url_loja': 'https://jugamosuna.es/tienda/',\n",
       "   'url_jogo': 'https://jugamosotra.com/1-5-jugadores/3905-wingspan.html',\n",
       "   'portes': 6.9,\n",
       "   'preco': 49.49,\n",
       "   'imagem': 'https://jugamosotra.com/16023-home_default/wingspan.jpg'},\n",
       "  {'objectId': 'Hbv04SZWBH',\n",
       "   'url_jogo': 'https://jugamosuna.es/tienda/4479/comprar-wingspan-barato.html',\n",
       "   'createdAt': '2020-09-08T14:14:45.346Z',\n",
       "   'updatedAt': '2020-09-08T14:15:26.412Z',\n",
       "   'url_loja': 'https://jugamosuna.es/tienda/',\n",
       "   'preco': 46.71,\n",
       "   'nome_loja': 'Jugamos una',\n",
       "   'nome_jogo': 'Wingspan',\n",
       "   'portes': 3.95,\n",
       "   'imagem': 'https://jugamosuna.es/tienda/10803-home_default/comprar-wingspan-barato.jpg'},\n",
       "  {'objectId': 'ZEHZO8uQ8C',\n",
       "   'nome_jogo': 'Wingspan',\n",
       "   'createdAt': '2020-09-08T14:15:57.265Z',\n",
       "   'updatedAt': '2020-09-09T10:06:42.909Z',\n",
       "   'url_jogo': 'https://juegosdelamesaredonda.com/7275-wingspan-8436578810277.html',\n",
       "   'preco': 46.71,\n",
       "   'nome_loja': 'Juegos de la mesa redonda',\n",
       "   'url_loja': 'https://juegosdelamesaredonda.com',\n",
       "   'portes': 6.95,\n",
       "   'imagem': 'https://juegosdelamesaredonda.com/7275-31891-thickbox_default/wingspan.jpg'},\n",
       "  {'objectId': 'CIkuVt34r2',\n",
       "   'nome_jogo': 'Brass: Birmingham',\n",
       "   'createdAt': '2020-09-08T14:20:13.474Z',\n",
       "   'updatedAt': '2020-09-08T14:24:01.954Z',\n",
       "   'nome_loja': 'Jugamos otra',\n",
       "   'url_loja': 'https://jugamosuna.es/tienda/',\n",
       "   'portes': 6.9,\n",
       "   'url_jogo': 'https://jugamosotra.com/juegos/4332-brass-birmingham.html',\n",
       "   'preco': 53.94,\n",
       "   'imagem': 'https://jugamosotra.com/15020-home_default/brass-birmingham.jpg'},\n",
       "  {'objectId': '96YYGMaaxE',\n",
       "   'nome_jogo': 'Brass: Birmingham',\n",
       "   'createdAt': '2020-09-08T14:20:18.483Z',\n",
       "   'updatedAt': '2020-09-08T14:23:12.634Z',\n",
       "   'url_jogo': 'https://jugamosuna.es/tienda/4786/comprar-brass-birmingham-barato.html',\n",
       "   'nome_loja': 'Jugamos una',\n",
       "   'url_loja': 'https://jugamosuna.es/tienda/',\n",
       "   'preco': 51,\n",
       "   'portes': 3.95,\n",
       "   'imagem': 'https://jugamosuna.es/tienda/11279-large_default/comprar-brass-birmingham-barato.jpg'},\n",
       "  {'objectId': 'LUfL5ThpVL',\n",
       "   'nome_jogo': 'Brass: Birmingham',\n",
       "   'createdAt': '2020-09-08T14:20:23.482Z',\n",
       "   'updatedAt': '2020-09-10T12:08:03.579Z',\n",
       "   'url_jogo': 'https://jogonamesa.pt/P/ficha.cgi?bgg_id=224517',\n",
       "   'nome_loja': 'Jogo na mesa',\n",
       "   'url_loja': 'https://jogonamesa.pt/P/home.cgi',\n",
       "   'preco': 65.99,\n",
       "   'portes': 6,\n",
       "   'imagem': 'https://jogonamesa.pt/upload//z_image/08/18/30/00/460_460.jpg'},\n",
       "  {'objectId': 'yyRlcaQgVF',\n",
       "   'nome_jogo': 'Brass: Birmingham',\n",
       "   'createdAt': '2020-09-08T14:20:26.195Z',\n",
       "   'updatedAt': '2020-09-08T14:20:59.993Z',\n",
       "   'nome_loja': 'Juegos de la mesa redonda',\n",
       "   'preco': 53.01,\n",
       "   'imagem': 'https://juegosdelamesaredonda.com/7037-30946-large_default/brass-birmingham.jpg',\n",
       "   'url_jogo': 'https://juegosdelamesaredonda.com/7037-brass-birmingham-9781988884042.html',\n",
       "   'url_loja': 'https://juegosdelamesaredonda.com',\n",
       "   'portes': 6.95}]}"
      ]
     },
     "execution_count": 41,
     "metadata": {},
     "output_type": "execute_result"
    }
   ],
   "source": [
    "res"
   ]
  },
  {
   "cell_type": "code",
   "execution_count": 42,
   "metadata": {},
   "outputs": [],
   "source": [
    "save_parse_data(res)"
   ]
  },
  {
   "cell_type": "code",
   "execution_count": null,
   "metadata": {},
   "outputs": [],
   "source": []
  }
 ],
 "metadata": {
  "kernelspec": {
   "display_name": "Python 3",
   "language": "python",
   "name": "python3"
  },
  "language_info": {
   "codemirror_mode": {
    "name": "ipython",
    "version": 3
   },
   "file_extension": ".py",
   "mimetype": "text/x-python",
   "name": "python",
   "nbconvert_exporter": "python",
   "pygments_lexer": "ipython3",
   "version": "3.7.4"
  }
 },
 "nbformat": 4,
 "nbformat_minor": 2
}
